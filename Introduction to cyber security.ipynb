{
  "nbformat": 4,
  "nbformat_minor": 0,
  "metadata": {
    "colab": {
      "provenance": []
    },
    "kernelspec": {
      "name": "python3",
      "display_name": "Python 3"
    },
    "language_info": {
      "name": "python"
    }
  },
  "cells": [
    {
      "cell_type": "markdown",
      "source": [
        "1. Symmetric encryption Algorithm\n",
        "    Cryptographic methods known as symmetric-key algorithms employ identical cryptographic keys for the encryption and decryption of plaintext. There may be a straightforward transformation to switch between the two keys, or the keys could be the same.In actuality, the keys stand for a shared secret that can be utilized to preserve a private information link between two or more people.\n",
        "    There are two types of symmetric encryption algorithm:\n",
        "    a) Block cipher\n",
        "      A block of plaintext symbols is encrypted as a single unit using block ciphers.\n",
        "    b)Stream cipher\n",
        "      Stream ciphers translate a single plaintext\n",
        "      symbol straight into a ciphertext symbol.\n",
        "   \n",
        "   Block cipher is divided into two:AES and DES\n",
        "   Advanced Encryption Standard: Advanced Encryption Standard, or AES for short, is a symmetric encryption technique used to protect sensitive information. The earlier Data Encryption Standard (DES) was superseded by it when it was adopted as a standard by the National Institute of Standards and Technology (NIST) in 2001.\n",
        "   Key Size: The three key sizes that AES offers are 128-bit, 192-bit, and 256-bit. The encryption is stronger the larger the key size. So AES with key sizes of 128 bits, 192 bits, and 256 bits, respectively, is denoted by the acronyms AES-128, AES-192, and AES-256.\n",
        "   Rounds: The AES functions by a sequence of changes referred to as rounds. The number of rounds varies with the size of the key: AES-128 has 10 rounds, AES-192 has 12 rounds, and AES-256 has 14 rounds.\n",
        "   Substitution-Permutation Network (SPN): In every AES round, there are several steps involved, such as data mixing, substitution, and permutation. It becomes resistant to different cryptanalytic attacks using these steps.\n",
        "   AES is widely utilized in many different applications, including database security, file encryption, and internet communication security (e.g., HTTPS). Given its power, efficiency, and broad applicability, it ranks among the most significant cryptographic algorithms now in use.\n",
        "\n",
        "   Data Encryption Standard: A symmetric-key method called the Data Encryption Standard is used to encrypt digital data. Its 56-bit short key length renders it too insecure for most modern applications, yet it has greatly influenced the development of cryptography.\n",
        "\n",
        "   Key Size: A 56-bit key is used in the original DES specification. But because computer power has increased, this key length is deemed insufficient for current security requirements. As a result, Triple DES (3DES) was developed to improve security by using DES three times with distinct keys. Depending on the mode of operation, this led to an effective key length of 112 or 168 bits.\n",
        "   \n",
        "  Rounds: There are sixteen encryption and decoding rounds in DES. Before being merged with the left half and switched for the following round, the right half of the plaintext is subjected to expansion, permutation, substitution, and other operations in each round. Because of the confusion and diffusion these procedures produce, DES is immune to a wide range of cryptanalytic assaults.\n",
        "\n",
        "\n",
        "\n",
        "\n",
        "\n",
        "\n",
        "\n",
        "\n"
      ],
      "metadata": {
        "id": "aVCNXVYVdyYD"
      }
    },
    {
      "cell_type": "code",
      "source": [
        "!pip install pycryptodome\n",
        "from Crypto.Cipher import AES\n",
        "from Crypto.Random import get_random_bytes\n",
        "\n",
        "def encrypt_ctr(plaintext, key):\n",
        "    cipher = AES.new(key, AES.MODE_CTR)\n",
        "    nonce = cipher.nonce\n",
        "    ciphertext = cipher.encrypt(plaintext)\n",
        "    return ciphertext, nonce\n",
        "\n",
        "def decrypt_ctr(ciphertext, key, nonce):\n",
        "    cipher = AES.new(key, AES.MODE_CTR, nonce=nonce)\n",
        "    plaintext = cipher.decrypt(ciphertext)\n",
        "    return plaintext\n",
        "\n",
        "def encrypt_cfb(plaintext, key):\n",
        "    cipher = AES.new(key, AES.MODE_CFB)\n",
        "    iv = get_random_bytes(AES.block_size)\n",
        "    ciphertext = iv + cipher.encrypt(plaintext)\n",
        "    return ciphertext\n",
        "\n",
        "def decrypt_cfb(ciphertext, key):\n",
        "    iv = ciphertext[:AES.block_size]\n",
        "    cipher = AES.new(key, AES.MODE_CFB, iv=iv)\n",
        "    plaintext = cipher.decrypt(ciphertext[AES.block_size:])\n",
        "    return plaintext\n",
        "key = get_random_bytes(16)\n",
        "plaintext = b\"Hi,my dear friend!\"\n",
        "ciphertext_ctr, nonce = encrypt_ctr(plaintext, key)\n",
        "decrypted_text_ctr = decrypt_ctr(ciphertext_ctr, key, nonce)\n",
        "\n",
        "print(\"Counter Mode (CTR):\")\n",
        "print(\"Plaintext:\", plaintext)\n",
        "print(\"Ciphertext:\", ciphertext_ctr)\n",
        "print(\"Decrypted text:\", decrypted_text_ctr)\n",
        "key = get_random_bytes(16)\n",
        "plaintext = b\"Hi,my dear friend!\"\n",
        "ciphertext_cfb = encrypt_cfb(plaintext, key)\n",
        "decrypted_text_cfb = decrypt_cfb(ciphertext_cfb, key)\n",
        "\n",
        "print(\"\\nCipher Feedback Mode (CFB):\")\n",
        "print(\"Plaintext:\", plaintext)\n",
        "print(\"Ciphertext:\", ciphertext_cfb)\n",
        "print(\"Decrypted text:\", decrypted_text_cfb)"
      ],
      "metadata": {
        "colab": {
          "base_uri": "https://localhost:8080/"
        },
        "id": "EQ_oIToopaPJ",
        "outputId": "fed868ed-1ef8-4050-c6b9-34a4f290e5a7"
      },
      "execution_count": 4,
      "outputs": [
        {
          "output_type": "stream",
          "name": "stdout",
          "text": [
            "Collecting pycryptodome\n",
            "  Downloading pycryptodome-3.20.0-cp35-abi3-manylinux_2_17_x86_64.manylinux2014_x86_64.whl (2.1 MB)\n",
            "\u001b[2K     \u001b[90m━━━━━━━━━━━━━━━━━━━━━━━━━━━━━━━━━━━━━━━━\u001b[0m \u001b[32m2.1/2.1 MB\u001b[0m \u001b[31m10.2 MB/s\u001b[0m eta \u001b[36m0:00:00\u001b[0m\n",
            "\u001b[?25hInstalling collected packages: pycryptodome\n",
            "Successfully installed pycryptodome-3.20.0\n",
            "Counter Mode (CTR):\n",
            "Plaintext: b'Hi,my dear friend!'\n",
            "Ciphertext: b'\\xed\\x10\\xf3s\\xc1*i\\x95Il\\xd7\\x066Vl\\x97\\xf6\\xc7'\n",
            "Decrypted text: b'Hi,my dear friend!'\n",
            "\n",
            "Cipher Feedback Mode (CFB):\n",
            "Plaintext: b'Hi,my dear friend!'\n",
            "Ciphertext: b'\\xceX\\x19\\xe0O\\xd3\\xd1\\xc9\\x82\\x81\\xdb\\x0b\\x1f\\xf2\\x14\\x16\\xa0\\x94!\\xe5Z\\x06\\x00\\x81\\\\\\x1e\\xd1\\xf0_k\\xce2\\xb5D'\n",
            "Decrypted text: b'bP|\\xb7]\\x8bk\\xbc\\xbc\\xda\\xa3@7J\\x83\\x0cd!'\n"
          ]
        }
      ]
    },
    {
      "cell_type": "code",
      "source": [
        "from Crypto.Cipher import DES\n",
        "from Crypto.Random import get_random_bytes\n",
        "from Crypto.Util.Padding import pad, unpad\n",
        "\n",
        "def encrypt_message(message, key):\n",
        "    cipher = DES.new(key, DES.MODE_ECB)\n",
        "    padded_message = pad(message.encode(), DES.block_size)\n",
        "    ciphertext = cipher.encrypt(padded_message)\n",
        "    return ciphertext\n",
        "\n",
        "def decrypt_message(ciphertext, key):\n",
        "    cipher = DES.new(key, DES.MODE_ECB)\n",
        "    decrypted_message = cipher.decrypt(ciphertext)\n",
        "    unpadded_message = unpad(decrypted_message, DES.block_size)\n",
        "    return unpadded_message.decode()\n",
        "\n",
        "\n",
        "message = \"Hello, this is a secret message.\"\n",
        "key = get_random_bytes(8)  # Generate a random 8-byte (64-bit) key\n",
        "\n",
        "\n",
        "encrypted_message = encrypt_message(message, key)\n",
        "print(\"Encrypted message:\", encrypted_message)\n",
        "\n",
        "\n",
        "decrypted_message = decrypt_message(encrypted_message, key)\n",
        "print(\"Decrypted message:\", decrypted_message)\n"
      ],
      "metadata": {
        "colab": {
          "base_uri": "https://localhost:8080/"
        },
        "id": "xmUSOWPDASvh",
        "outputId": "8f3b379a-fe3f-42d0-d487-6ab5e31c73f4"
      },
      "execution_count": 6,
      "outputs": [
        {
          "output_type": "stream",
          "name": "stdout",
          "text": [
            "Encrypted message: b'{\\x0f~\\x8bO\\xdddA#]\\xdb\\xc1rRCS\\xba\\x818\\x96\\x0b^\\xad\\xaeZ\\xa8\\xab\\xc5\\xbe\\xd3\\x88\\x12G\\xfa\\x03\\xb1ob\\xe5W'\n",
            "Decrypted message: Hello, this is a secret message.\n"
          ]
        }
      ]
    },
    {
      "cell_type": "markdown",
      "source": [
        "Asymmetric encryption algorithms: They encrypt and decrypt data using two separate keys.In actuality, the public key is used for encryption, and the private key is utilized for decryption. The recipient must be the owner of both keys.\n",
        "\n",
        "There are two types of assymmetric encryption : RSA and Diffie Hellman\n",
        "a) RSA (Rivesr-Shamir-Adleman):Key Generation: Key Pair: A public key and a private key are used by RSA. While the private key is kept confidential, the public key is freely shared.\n",
        "\n",
        "Prime Numbers: To start the key generation process, choose two sizable prime numbers P and Q, chosen at random. The process of generating both private and public keys involves the use of these integers.\n",
        "Modulus: The modulus, n, can be calculated by multiplying the two prime numbers: n = p*q. The public and private keys both contain this modulus.\n",
        "\n",
        "Encryption: Encryption: To encrypt a communication\n",
        "M, the sender utilizes the public key (e,n) of the recipient (e,n).The message M is transformed by the sender into an integer m, so that 0≤𝑚 < n 0≤m<n.\n",
        "\n",
        "Decryption:The recipient uses their private key (H, E) to decrypt the ciphertext C (d,n).\n",
        "The recipient calculates m≡C d (modn) = 𝑚 ≡ C d (m o d𝑛 ). This is the decryption procedure, where d stands for the modulus and n for the private exponent.\n",
        "It is possible to obtain the original message M by reverting M to its initial format.\n",
        "b)Diffie-Hellman: A cryptographic system called the Diffie-Hellman key exchange (DH) enables two parties to create a shared secret over an unreliable communication channel. The invention of public-key cryptography dates back to 1976, when Whitfield Diffie and Martin Hellman created it.\n",
        "Key Generation: Bob and Alice produce their own private keys independently:Alice chooses a number at random, a as her secret code.\n",
        "Bob chooses to use b, a random integer, as his private key.\n",
        "\n",
        "Public Key Exchange: Using their private keys and the predetermined parameters, Alice and Bob calculate their public keys.\n",
        "The public key of Alice: A=g^a mod p\n",
        "The public key of Bob: B=g^b mod p\n",
        "Calculation of Shared Secret: After Alice obtains Bob's public key and Alice gives Bob and B her public key.\n",
        "Then they are able to calculate the shared secret:\n",
        "Alice's shared secret: S= B^a mod p\n",
        "Bob's shared secret: S= A^b mod p\n",
        "In order to create secure communication channels over unreliable networks, Diffie-Hellman key exchange is extensively utilized in a variety of cryptographic protocols, including Transport Layer Security (TLS), Secure Shell (SSH), and Virtual Private Networks (VPNs). It continues to be a pillar of safe communication in the digital age and serves as the foundation for many contemporary encryption approaches.\n"
      ],
      "metadata": {
        "id": "6F8qdiARpy-2"
      }
    },
    {
      "cell_type": "markdown",
      "source": [
        "3. Hash function: A hash function is a mathematical function that takes an input  and produces a fixed-size string of bytes that is  typically of much shorter length than the input. That's why output is often referred to as a hash value, hash code, or simply hash.\n",
        "\n",
        "Hash function has fixed output size. It has consistency and reliability because a hash function always produces the same hash value for any given input.\n",
        "\n",
        "Digital Signatures: Digital signature algorithms employ hash functions to produce a message's hash value, which is subsequently encrypted with a private key to produce a digital signature. By using the sender's public key to decrypt the digital signature and comparing the result with a hash value calculated from the received message, recipients can confirm the message's integrity."
      ],
      "metadata": {
        "id": "yDIBjBKt8ip6"
      }
    },
    {
      "cell_type": "code",
      "source": [
        "def hash_function(string):\n",
        "    hash_value = 0\n",
        "    for char in string:\n",
        "        hash_value ^= ord(char)\n",
        "\n",
        "    return hash_value\n",
        "input_string = \"Hey sinamika\"\n",
        "hash_value = hash_function(input_string)\n",
        "print(f\"The hash of '{input_string}' is: {hash_value}\")"
      ],
      "metadata": {
        "colab": {
          "base_uri": "https://localhost:8080/"
        },
        "id": "Al9JbPbt-dvQ",
        "outputId": "eabd2ef2-d14b-44d9-be9f-23427c7b58cd"
      },
      "execution_count": 5,
      "outputs": [
        {
          "output_type": "stream",
          "name": "stdout",
          "text": [
            "The hash of 'Hey sinamika' is: 111\n"
          ]
        }
      ]
    }
  ]
}